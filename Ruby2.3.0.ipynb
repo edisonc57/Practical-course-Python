{
  "nbformat": 4,
  "nbformat_minor": 0,
  "metadata": {
    "colab": {
      "name": "RubyInColab.ipynb",
      "provenance": []
    },
    "kernelspec": {
      "display_name": "Ruby 2.3.0",
      "language": "ruby",
      "name": "ruby"
    },
    "language_info": {
      "file_extension": ".rb",
      "mimetype": "application/x-ruby",
      "name": "ruby",
      "version": "2.3.0"
    }
  },
  "cells": [
    {
      "cell_type": "markdown",
      "metadata": {
        "id": "JLbH139KyjU1"
      },
      "source": [
        "## Copyrighted By Seyed Mohammad Hossein Sefidgar 🚀\n",
        "### Click below button to be directed to Colaboratory. Enjoy!"
      ]
    },
    {
      "cell_type": "markdown",
      "metadata": {
        "id": "view-in-github"
      },
      "source": [
        "<a href=\"https://colab.research.google.com/github/AI-Professionals/All-Languages-on-the-cloud---Colab/blob/main/Ruby2.3.0.ipynb\" target=\"_parent\"><img src=\"https://colab.research.google.com/assets/colab-badge.svg\" alt=\"Open In Colab\"/></a>"
      ]
    },
    {
      "cell_type": "code",
      "metadata": {
        "id": "rQ4sjzi-yjU8"
      },
      "source": [
        "%%capture\n",
        "!apt-get install ruby-dev\n",
        "!sudo apt install libtool libffi-dev ruby ruby-dev make\n",
        "!sudo apt install libzmq3-dev libczmq-dev\n",
        "!gem install ffi-rzmq rake\n",
        "!gem install specific_install\n",
        "!gem specific_install https://github.com/SciRuby/iruby\n",
        "!iruby register"
      ],
      "execution_count": null,
      "outputs": []
    },
    {
      "cell_type": "markdown",
      "metadata": {
        "id": "mVQZn370meqz"
      },
      "source": [
        "## Data Science Package (Optional)"
      ]
    },
    {
      "cell_type": "code",
      "metadata": {
        "id": "dfjMe74Oykmd"
      },
      "source": [
        "%%capture\n",
        "!gem install awesome_print\n",
        "!gem specific_install https://github.com/SciRuby/daru\n",
        "!gem specific_install https://github.com/SciRuby/daru-view\n",
        "!gem install numo-narray\n",
        "!gem install rumale"
      ],
      "execution_count": null,
      "outputs": []
    },
    {
      "cell_type": "markdown",
      "metadata": {
        "id": "gNiR0utEz8Ci"
      },
      "source": [
        "The runtime will be automatically set. Enjoy your Programming"
      ]
    },
    {
      "cell_type": "code",
      "metadata": {
        "id": "UZAtTWmqz31D"
      },
      "source": [],
      "execution_count": null,
      "outputs": []
    }
  ]
}