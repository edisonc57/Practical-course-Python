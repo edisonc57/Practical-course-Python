{
  "nbformat": 4,
  "nbformat_minor": 0,
  "metadata": {
    "colab": {
      "provenance": [],
      "authorship_tag": "ABX9TyMvjYuUGYGa+NHhJsXopp4e",
      "include_colab_link": true
    },
    "kernelspec": {
      "name": "python3",
      "display_name": "Python 3"
    },
    "language_info": {
      "name": "python"
    }
  },
  "cells": [
    {
      "cell_type": "markdown",
      "metadata": {
        "id": "view-in-github",
        "colab_type": "text"
      },
      "source": [
        "<a href=\"https://colab.research.google.com/github/edisonc57/Practical-course-Python/blob/main/Python_Oil_%26_Gas.ipynb\" target=\"_parent\"><img src=\"https://colab.research.google.com/assets/colab-badge.svg\" alt=\"Open In Colab\"/></a>"
      ]
    },
    {
      "cell_type": "markdown",
      "source": [
        "##**Основы Python**"
      ],
      "metadata": {
        "id": "V3ETwCntb-_d"
      }
    },
    {
      "cell_type": "markdown",
      "source": [
        "* Почему именно Python? - Переводрые технические решения, к тому умные:  Моделирование, автоматизация,более быстрое решение проблем, эффективные\n",
        "workflows.  / *¿Por qué python? - Soluciones técnicas avanzadas, además de inteligentes: modelado, automatización, resolución de problemas más rápido, flujos de trabajo mejorados y eficientes.*\n",
        "\n",
        "* Нефтегазовая промышленность является новым направлением в области науки о данных и машшиного обучения / *La industria del petróleo y el gas es una nueva dirección en la ciencia de datos y el aprendizaje automático*\n",
        "\n",
        "* Будущее отрасли зависит от данных./ *El futuro de la industria depende de los datos*\n",
        "\n",
        "* Появляется множество стартапов, которые основаны исключительно на приложениях DS/ML для крупных компаний. Они хорошо оплачиваются./ *Están surgiendo muchas nuevas empresas que se basan únicamente en aplicaciones DS / ML para grandes empresas. Ellos pagan muy bien.*\n",
        "\n",
        "* Для тех, кто планирует диверсифицировать свою деятельность и плавно перейти в другую отрасль / сферу деятельности, это очень разумный шаг.\n",
        "Вы можете перейти в любую область./ *Para aquellos que planean diversificar sus operaciones y moverse sin problemas a otra industria / campo de actividad, este es un movimiento muy inteligente. Puedes ir a cualquier área.*\n",
        "\n",
        "* Количество возможностей значительно возрастает!/ *¡El número de posibilidades aumenta considerablemente!*\n",
        "\n",
        "* В этом курсе я расскажу о шагах, которые помогли мне эффективно перейти от базовой РЕ к РЕ для анализа данных./ *En este curso, cubriré los pasos que me ayudaron a pasar de la RE básica a LA re de manera eficiente para el análisis de datos.*"
      ],
      "metadata": {
        "id": "-AMDTSjccICO"
      }
    },
    {
      "cell_type": "markdown",
      "source": [
        "## **Глава 1 . несколько основных операций** / **Capitulo 1 . Operaciones básicas**"
      ],
      "metadata": {
        "id": "Ks-GhYXV8Ag7"
      }
    },
    {
      "cell_type": "code",
      "execution_count": 1,
      "metadata": {
        "colab": {
          "base_uri": "https://localhost:8080/"
        },
        "id": "HT8oo9Rab9oF",
        "outputId": "c284ec99-bafd-485a-b92c-9a9dd9b55593"
      },
      "outputs": [
        {
          "output_type": "execute_result",
          "data": {
            "text/plain": [
              "5"
            ]
          },
          "metadata": {},
          "execution_count": 1
        }
      ],
      "source": [
        "#Сложение\n",
        "2+3"
      ]
    },
    {
      "cell_type": "code",
      "source": [
        "#Вычитание\n",
        "3-3"
      ],
      "metadata": {
        "colab": {
          "base_uri": "https://localhost:8080/"
        },
        "id": "FyXIgG4V_8iF",
        "outputId": "3df47e6b-8ebc-4cc9-b38c-53063ebe856d"
      },
      "execution_count": 2,
      "outputs": [
        {
          "output_type": "execute_result",
          "data": {
            "text/plain": [
              "0"
            ]
          },
          "metadata": {},
          "execution_count": 2
        }
      ]
    },
    {
      "cell_type": "code",
      "source": [
        "#Умножение\n",
        "2*3"
      ],
      "metadata": {
        "colab": {
          "base_uri": "https://localhost:8080/"
        },
        "id": "dilOOWOJAIcx",
        "outputId": "b6402993-f8dc-4244-85db-85c9bcf90be2"
      },
      "execution_count": 3,
      "outputs": [
        {
          "output_type": "execute_result",
          "data": {
            "text/plain": [
              "6"
            ]
          },
          "metadata": {},
          "execution_count": 3
        }
      ]
    },
    {
      "cell_type": "code",
      "source": [
        "#степень\n",
        "10**2"
      ],
      "metadata": {
        "colab": {
          "base_uri": "https://localhost:8080/"
        },
        "id": "icS_I51lAVeb",
        "outputId": "d7d02713-7344-4131-d0b6-4e362dafa2d0"
      },
      "execution_count": 4,
      "outputs": [
        {
          "output_type": "execute_result",
          "data": {
            "text/plain": [
              "100"
            ]
          },
          "metadata": {},
          "execution_count": 4
        }
      ]
    },
    {
      "cell_type": "code",
      "source": [
        "#деление\n",
        "5/5"
      ],
      "metadata": {
        "colab": {
          "base_uri": "https://localhost:8080/"
        },
        "id": "9QDqZ4CkA0sB",
        "outputId": "37784906-7929-4cf4-f076-4f2f7f921bb8"
      },
      "execution_count": 5,
      "outputs": [
        {
          "output_type": "execute_result",
          "data": {
            "text/plain": [
              "1.0"
            ]
          },
          "metadata": {},
          "execution_count": 5
        }
      ]
    },
    {
      "cell_type": "code",
      "source": [
        "7/2\n"
      ],
      "metadata": {
        "colab": {
          "base_uri": "https://localhost:8080/"
        },
        "id": "rcVnmzYIBWh5",
        "outputId": "cd0e4d3d-ae11-4232-f5c9-e53e7f1ce92c"
      },
      "execution_count": 8,
      "outputs": [
        {
          "output_type": "execute_result",
          "data": {
            "text/plain": [
              "3.5"
            ]
          },
          "metadata": {},
          "execution_count": 8
        }
      ]
    },
    {
      "cell_type": "code",
      "source": [
        "#неполное частное\n",
        "9//2"
      ],
      "metadata": {
        "colab": {
          "base_uri": "https://localhost:8080/"
        },
        "id": "h8tMDUWIGVlt",
        "outputId": "9abece0e-233b-449b-ebe2-462cb732174c"
      },
      "execution_count": 10,
      "outputs": [
        {
          "output_type": "execute_result",
          "data": {
            "text/plain": [
              "4"
            ]
          },
          "metadata": {},
          "execution_count": 10
        }
      ]
    },
    {
      "cell_type": "code",
      "source": [
        "#остаток\n",
        "9%2"
      ],
      "metadata": {
        "colab": {
          "base_uri": "https://localhost:8080/"
        },
        "id": "uGF2SKrTG8IW",
        "outputId": "a919a19a-7330-45e0-9ac2-8b4b7afc8360"
      },
      "execution_count": 11,
      "outputs": [
        {
          "output_type": "execute_result",
          "data": {
            "text/plain": [
              "1"
            ]
          },
          "metadata": {},
          "execution_count": 11
        }
      ]
    },
    {
      "cell_type": "code",
      "source": [
        "round(2.45678,2)"
      ],
      "metadata": {
        "colab": {
          "base_uri": "https://localhost:8080/"
        },
        "id": "MzAk74jJHrjr",
        "outputId": "f1036e0c-761e-4540-e8e1-f3c479c48cb9"
      },
      "execution_count": 12,
      "outputs": [
        {
          "output_type": "execute_result",
          "data": {
            "text/plain": [
              "2.46"
            ]
          },
          "metadata": {},
          "execution_count": 12
        }
      ]
    },
    {
      "cell_type": "markdown",
      "source": [
        "## Глава 2 .  Присваивание значения переменной / *Asignación de variables*\n",
        "\n",
        "\n",
        "\n"
      ],
      "metadata": {
        "id": "J2M79v2PH8DE"
      }
    },
    {
      "cell_type": "markdown",
      "source": [
        "Правила / Reglas:\n",
        "* Нижнее подчеркивание / Guión bajo\n",
        "* Никогда не начинайте со специального числа/символа. Nunca empezar con un numero / simmbolo special\n",
        "* Никаких других специальных символов нигде нет./ * No otros símbolos especiales en cualquier lado*\n",
        "* A и a разные / *A & a son diferentes*\n"
      ],
      "metadata": {
        "id": "VUleMBMfL5Kz"
      }
    },
    {
      "cell_type": "code",
      "source": [
        "var_1= 5\n",
        "var2= 3\n",
        "var_ = 5\n",
        "var43sdferrwerrt= 5\n",
        "_= 6\n",
        "A= 8\n",
        "a= 67\n",
        "A,a"
      ],
      "metadata": {
        "colab": {
          "base_uri": "https://localhost:8080/"
        },
        "id": "NKkOZWEsQhy4",
        "outputId": "ae1a48a0-d61c-443b-a8f1-ec6e4c8ad952"
      },
      "execution_count": 17,
      "outputs": [
        {
          "output_type": "execute_result",
          "data": {
            "text/plain": [
              "(8, 67)"
            ]
          },
          "metadata": {},
          "execution_count": 17
        }
      ]
    },
    {
      "cell_type": "markdown",
      "source": [
        "# Пример Закона Дарси / *Ejemplo: Ley de Darcy*"
      ],
      "metadata": {
        "id": "cPrjEhs1UF83"
      }
    },
    {
      "cell_type": "code",
      "source": [
        "K= 10  #коэффициент проницаемости м2\n",
        "A= 20  # площадь фильтрации м2\n",
        "mu= 0.5   #динамическая вязкость флюида Па·с\n",
        "delP = 100 #перепад давления Па\n",
        "L=  0.3 #длина изучаемого образца  м\n",
        "\n",
        "Q = K* A* delP /(mu * L)\n",
        "Q"
      ],
      "metadata": {
        "colab": {
          "base_uri": "https://localhost:8080/"
        },
        "id": "2bGgfyevQq-k",
        "outputId": "22ba967b-1617-4c78-8963-8c06fb7f6e24"
      },
      "execution_count": 27,
      "outputs": [
        {
          "output_type": "execute_result",
          "data": {
            "text/plain": [
              "133333.33333333334"
            ]
          },
          "metadata": {},
          "execution_count": 27
        }
      ]
    },
    {
      "cell_type": "code",
      "source": [],
      "metadata": {
        "id": "gaFjnpXAYbxq"
      },
      "execution_count": null,
      "outputs": []
    }
  ]
}