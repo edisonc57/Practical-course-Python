{
  "nbformat": 4,
  "nbformat_minor": 0,
  "metadata": {
    "colab": {
      "provenance": [],
      "authorship_tag": "ABX9TyMUbjVlT+uS4+vAqxsixAMD",
      "include_colab_link": true
    },
    "kernelspec": {
      "name": "python3",
      "display_name": "Python 3"
    },
    "language_info": {
      "name": "python"
    }
  },
  "cells": [
    {
      "cell_type": "markdown",
      "metadata": {
        "id": "view-in-github",
        "colab_type": "text"
      },
      "source": [
        "<a href=\"https://colab.research.google.com/github/edisonc57/Practical-course-Python/blob/main/Python_Oil_%26_Gas_2.ipynb\" target=\"_parent\"><img src=\"https://colab.research.google.com/assets/colab-badge.svg\" alt=\"Open In Colab\"/></a>"
      ]
    },
    {
      "cell_type": "markdown",
      "source": [
        "##*El poder de la automatización y comenzando con el Data Analysis*"
      ],
      "metadata": {
        "id": "dZ2DDYrg8u6e"
      }
    },
    {
      "cell_type": "markdown",
      "source": [
        "## Глава 1 Оператор сравнение / Operadores de comparacion"
      ],
      "metadata": {
        "id": "MivpgGBuLD1b"
      }
    },
    {
      "cell_type": "code",
      "execution_count": null,
      "metadata": {
        "colab": {
          "base_uri": "https://localhost:8080/"
        },
        "id": "U2GxghUm8ZwC",
        "outputId": "5950787c-fe06-4053-8c61-7e6f0e1e2d41"
      },
      "outputs": [
        {
          "output_type": "execute_result",
          "data": {
            "text/plain": [
              "True"
            ]
          },
          "metadata": {},
          "execution_count": 1
        }
      ],
      "source": [
        "5>2"
      ]
    },
    {
      "cell_type": "code",
      "source": [
        "type(5>2 )"
      ],
      "metadata": {
        "colab": {
          "base_uri": "https://localhost:8080/"
        },
        "id": "mPFEal8yL68_",
        "outputId": "e01b4872-7e0f-4a34-f4b8-551279b5c1cb"
      },
      "execution_count": null,
      "outputs": [
        {
          "output_type": "execute_result",
          "data": {
            "text/plain": [
              "bool"
            ]
          },
          "metadata": {},
          "execution_count": 2
        }
      ]
    },
    {
      "cell_type": "code",
      "source": [
        "5<2"
      ],
      "metadata": {
        "colab": {
          "base_uri": "https://localhost:8080/"
        },
        "id": "e6NYYaQ3L81z",
        "outputId": "b384750f-af98-4ca2-f50e-f6a194b4d3d5"
      },
      "execution_count": null,
      "outputs": [
        {
          "output_type": "execute_result",
          "data": {
            "text/plain": [
              "False"
            ]
          },
          "metadata": {},
          "execution_count": 3
        }
      ]
    },
    {
      "cell_type": "code",
      "source": [
        "5=5"
      ],
      "metadata": {
        "colab": {
          "base_uri": "https://localhost:8080/",
          "height": 110
        },
        "id": "9P6YZEs7MqV5",
        "outputId": "53e47dfb-47c0-4e70-81e5-c3736b7e8614"
      },
      "execution_count": null,
      "outputs": [
        {
          "output_type": "error",
          "ename": "SyntaxError",
          "evalue": "cannot assign to literal here. Maybe you meant '==' instead of '='? (<ipython-input-1-716d4afe7cec>, line 1)",
          "traceback": [
            "\u001b[0;36m  File \u001b[0;32m\"<ipython-input-1-716d4afe7cec>\"\u001b[0;36m, line \u001b[0;32m1\u001b[0m\n\u001b[0;31m    5=5\u001b[0m\n\u001b[0m    ^\u001b[0m\n\u001b[0;31mSyntaxError\u001b[0m\u001b[0;31m:\u001b[0m cannot assign to literal here. Maybe you meant '==' instead of '='?\n"
          ]
        }
      ]
    },
    {
      "cell_type": "code",
      "source": [
        "5>=2 , 2<=5"
      ],
      "metadata": {
        "colab": {
          "base_uri": "https://localhost:8080/"
        },
        "id": "cEQk8mmLLXg2",
        "outputId": "79efd662-b7dd-412e-c113-44b2184e5199"
      },
      "execution_count": null,
      "outputs": [
        {
          "output_type": "execute_result",
          "data": {
            "text/plain": [
              "(True, True)"
            ]
          },
          "metadata": {},
          "execution_count": 3
        }
      ]
    },
    {
      "cell_type": "code",
      "source": [
        "5==5"
      ],
      "metadata": {
        "colab": {
          "base_uri": "https://localhost:8080/"
        },
        "id": "0I7mN1GvNiAc",
        "outputId": "0c984c71-2743-48aa-e5ed-3ce77bddbadd"
      },
      "execution_count": null,
      "outputs": [
        {
          "output_type": "execute_result",
          "data": {
            "text/plain": [
              "True"
            ]
          },
          "metadata": {},
          "execution_count": 4
        }
      ]
    },
    {
      "cell_type": "code",
      "source": [
        "k_A= input(\"ingrese la permeabilidad en (md)\")\n"
      ],
      "metadata": {
        "colab": {
          "base_uri": "https://localhost:8080/"
        },
        "id": "HY4KYih9Nzyp",
        "outputId": "854dc5f3-30f6-4857-f668-276cd742a000"
      },
      "execution_count": null,
      "outputs": [
        {
          "name": "stdout",
          "output_type": "stream",
          "text": [
            "ingrese la permeabilidad en (md)50\n"
          ]
        }
      ]
    },
    {
      "cell_type": "code",
      "source": [
        "print(\"La permeabilidad es\", k_A)"
      ],
      "metadata": {
        "colab": {
          "base_uri": "https://localhost:8080/"
        },
        "id": "o83ss1NHUPzs",
        "outputId": "c27f71aa-202f-4837-ed42-cff40f13f03f"
      },
      "execution_count": null,
      "outputs": [
        {
          "output_type": "stream",
          "name": "stdout",
          "text": [
            "La permeabilidad es 50\n"
          ]
        }
      ]
    },
    {
      "cell_type": "code",
      "source": [
        "type(k_A)"
      ],
      "metadata": {
        "colab": {
          "base_uri": "https://localhost:8080/"
        },
        "id": "BAtCkTSKUesP",
        "outputId": "8286def6-1cee-4922-d2c5-ccde53deb5c3"
      },
      "execution_count": null,
      "outputs": [
        {
          "output_type": "execute_result",
          "data": {
            "text/plain": [
              "str"
            ]
          },
          "metadata": {},
          "execution_count": 12
        }
      ]
    },
    {
      "cell_type": "code",
      "source": [
        "K_Cushabatay= input(\"Ingresar la permeabilidad en md: \")\n"
      ],
      "metadata": {
        "colab": {
          "base_uri": "https://localhost:8080/"
        },
        "id": "YLlKLJvnUf8P",
        "outputId": "07123314-71e7-460c-b5c4-793ec83c7804"
      },
      "execution_count": null,
      "outputs": [
        {
          "name": "stdout",
          "output_type": "stream",
          "text": [
            "Ingresar la permeabilidad en md: 50\n"
          ]
        }
      ]
    },
    {
      "cell_type": "code",
      "source": [
        "type(K_Cushabatay)"
      ],
      "metadata": {
        "colab": {
          "base_uri": "https://localhost:8080/"
        },
        "id": "2MIT2VbiWs_H",
        "outputId": "ee4420b9-dd57-4b17-90d4-76084cc125dd"
      },
      "execution_count": null,
      "outputs": [
        {
          "output_type": "execute_result",
          "data": {
            "text/plain": [
              "str"
            ]
          },
          "metadata": {},
          "execution_count": 18
        }
      ]
    },
    {
      "cell_type": "code",
      "source": [
        "K_Cushabatay= float(K_Cushabatay)\n",
        "type(K_Cushabatay)"
      ],
      "metadata": {
        "colab": {
          "base_uri": "https://localhost:8080/"
        },
        "id": "4OssqRB6WxxE",
        "outputId": "1ff44618-5dc1-4dca-8d0a-a68e5f41599e"
      },
      "execution_count": null,
      "outputs": [
        {
          "output_type": "execute_result",
          "data": {
            "text/plain": [
              "float"
            ]
          },
          "metadata": {},
          "execution_count": 19
        }
      ]
    },
    {
      "cell_type": "markdown",
      "source": [
        "## Глава 2 if - else Условные операторы  /  *Operadores condicionales*"
      ],
      "metadata": {
        "id": "TPWBw0HnYE7k"
      }
    },
    {
      "cell_type": "code",
      "source": [
        "if 5>3:\n",
        "  print(\"5 es mayor que 3\")\n",
        "else:\n",
        "  print(\"5 no es mayor que 3\")"
      ],
      "metadata": {
        "colab": {
          "base_uri": "https://localhost:8080/"
        },
        "id": "d39luCpOYXf9",
        "outputId": "b2e5f1ec-0e8f-48e0-9c23-c802c65d44c5"
      },
      "execution_count": 16,
      "outputs": [
        {
          "output_type": "stream",
          "name": "stdout",
          "text": [
            "5 es mayor que 3\n"
          ]
        }
      ]
    },
    {
      "cell_type": "code",
      "source": [
        "if 5 <3:\n",
        "  print(\"está mal\")\n",
        "else:\n",
        "  print(\"No, 5 es > que 3\")"
      ],
      "metadata": {
        "colab": {
          "base_uri": "https://localhost:8080/"
        },
        "id": "9_5VV2OOap8k",
        "outputId": "509f6656-fa53-4035-bb4c-266639926921"
      },
      "execution_count": 17,
      "outputs": [
        {
          "output_type": "stream",
          "name": "stdout",
          "text": [
            "No, 5 es > que 3\n"
          ]
        }
      ]
    },
    {
      "cell_type": "code",
      "source": [
        "if 5<3:\n",
        "  print(\"No, 5 es mayor que 3\")\n",
        "elif 5==5 :\n",
        "  print(\"Block 2\")\n",
        "else:\n",
        "  print(\"Es verdad\")"
      ],
      "metadata": {
        "colab": {
          "base_uri": "https://localhost:8080/"
        },
        "id": "a0sFPLVjez-Y",
        "outputId": "359bdae8-0553-4a32-9fb9-9a20db1a9ed5"
      },
      "execution_count": 18,
      "outputs": [
        {
          "output_type": "stream",
          "name": "stdout",
          "text": [
            "Block 2\n"
          ]
        }
      ]
    },
    {
      "cell_type": "markdown",
      "source": [
        "Пример / Ejemplo"
      ],
      "metadata": {
        "id": "IBDqUs7OmoTE"
      }
    },
    {
      "cell_type": "code",
      "source": [
        "K_1= input(\"Ingresa la porosidad del la formación A: \")\n",
        "\n",
        "K_2= input(\"Ingresa la porosidad del la formación B : \")\n",
        "\n",
        "if K_1 > K_2:\n",
        "  print(\" Tomaremos la  porosidad de la formacion A para calcular las reservas\")\n",
        "\n",
        "elif K_1 == K_2:\n",
        "  print(\"Las porosidades son iguales, entonces vamos a evaluar de otra manera\")\n",
        "\n",
        "if K_1 < K_2:\n",
        "  print(\"Tomaremos la  porosidad de la formacion B  para calcular las reservas\")"
      ],
      "metadata": {
        "colab": {
          "base_uri": "https://localhost:8080/"
        },
        "id": "cf0DI6BClRBA",
        "outputId": "8833c73d-9420-4b68-c72b-7e2b9123513c"
      },
      "execution_count": 19,
      "outputs": [
        {
          "output_type": "stream",
          "name": "stdout",
          "text": [
            "Ingresa la porosidad del la formación A: 55\n",
            "Ingresa la porosidad del la formación B : 60\n",
            "Tomaremos la  porosidad de la formacion B  para calcular las reservas\n"
          ]
        }
      ]
    },
    {
      "cell_type": "markdown",
      "source": [
        "Combinando multiples comparaciones juntas"
      ],
      "metadata": {
        "id": "s3DvxXhNxkOj"
      }
    },
    {
      "cell_type": "code",
      "source": [
        "5>3 and 5>4"
      ],
      "metadata": {
        "colab": {
          "base_uri": "https://localhost:8080/"
        },
        "id": "F3llGwwtyKBB",
        "outputId": "190017eb-48be-44f4-8af1-b60a63b476a6"
      },
      "execution_count": 20,
      "outputs": [
        {
          "output_type": "execute_result",
          "data": {
            "text/plain": [
              "True"
            ]
          },
          "metadata": {},
          "execution_count": 20
        }
      ]
    },
    {
      "cell_type": "code",
      "source": [
        "5>3 or 5>20"
      ],
      "metadata": {
        "colab": {
          "base_uri": "https://localhost:8080/"
        },
        "id": "sO2JDsQ1yO3S",
        "outputId": "40f478f8-e0ac-44fc-b94c-d1ec23bd1415"
      },
      "execution_count": 21,
      "outputs": [
        {
          "output_type": "execute_result",
          "data": {
            "text/plain": [
              "True"
            ]
          },
          "metadata": {},
          "execution_count": 21
        }
      ]
    },
    {
      "cell_type": "code",
      "source": [
        "5>3 | 5>20"
      ],
      "metadata": {
        "colab": {
          "base_uri": "https://localhost:8080/"
        },
        "id": "4I3Drqtrye5n",
        "outputId": "01800fa8-fd2e-48d9-d62d-7a526ea29c3d"
      },
      "execution_count": 22,
      "outputs": [
        {
          "output_type": "execute_result",
          "data": {
            "text/plain": [
              "False"
            ]
          },
          "metadata": {},
          "execution_count": 22
        }
      ]
    },
    {
      "cell_type": "code",
      "source": [
        "5>3 & 5>41"
      ],
      "metadata": {
        "colab": {
          "base_uri": "https://localhost:8080/"
        },
        "id": "VlFCPEPc4QfO",
        "outputId": "1f89cab7-c861-4844-ac96-71fdb095bcc5"
      },
      "execution_count": 23,
      "outputs": [
        {
          "output_type": "execute_result",
          "data": {
            "text/plain": [
              "False"
            ]
          },
          "metadata": {},
          "execution_count": 23
        }
      ]
    },
    {
      "cell_type": "code",
      "source": [
        "not 1"
      ],
      "metadata": {
        "colab": {
          "base_uri": "https://localhost:8080/"
        },
        "id": "oGOWkn5w5OFc",
        "outputId": "0ac7dfe2-bcb5-4437-baf7-f9263ffc7f5b"
      },
      "execution_count": 24,
      "outputs": [
        {
          "output_type": "execute_result",
          "data": {
            "text/plain": [
              "False"
            ]
          },
          "metadata": {},
          "execution_count": 24
        }
      ]
    },
    {
      "cell_type": "code",
      "source": [
        "not 0"
      ],
      "metadata": {
        "colab": {
          "base_uri": "https://localhost:8080/"
        },
        "id": "uQssB3Sm5QK0",
        "outputId": "9c7bf10e-9341-45b4-ba07-2de31a95ec75"
      },
      "execution_count": 25,
      "outputs": [
        {
          "output_type": "execute_result",
          "data": {
            "text/plain": [
              "True"
            ]
          },
          "metadata": {},
          "execution_count": 25
        }
      ]
    },
    {
      "cell_type": "code",
      "source": [
        "not 5>3"
      ],
      "metadata": {
        "colab": {
          "base_uri": "https://localhost:8080/"
        },
        "id": "12vzs5tiOLh5",
        "outputId": "b5387893-09ac-45e4-fdca-08c591647728"
      },
      "execution_count": 26,
      "outputs": [
        {
          "output_type": "execute_result",
          "data": {
            "text/plain": [
              "False"
            ]
          },
          "metadata": {},
          "execution_count": 26
        }
      ]
    },
    {
      "cell_type": "code",
      "source": [
        "1 is 2"
      ],
      "metadata": {
        "colab": {
          "base_uri": "https://localhost:8080/"
        },
        "id": "rTyKBsdlOOL0",
        "outputId": "c445a26d-55f5-4b42-de18-346d03daab21"
      },
      "execution_count": 27,
      "outputs": [
        {
          "output_type": "stream",
          "name": "stderr",
          "text": [
            "<>:1: SyntaxWarning: \"is\" with a literal. Did you mean \"==\"?\n",
            "<>:1: SyntaxWarning: \"is\" with a literal. Did you mean \"==\"?\n",
            "<ipython-input-27-e6a694773981>:1: SyntaxWarning: \"is\" with a literal. Did you mean \"==\"?\n",
            "  1 is 2\n"
          ]
        },
        {
          "output_type": "execute_result",
          "data": {
            "text/plain": [
              "False"
            ]
          },
          "metadata": {},
          "execution_count": 27
        }
      ]
    },
    {
      "cell_type": "markdown",
      "source": [
        "## Глава 3 / Capítulo 3 Loops e Interaciones"
      ],
      "metadata": {
        "id": "duSeIetLRF-x"
      }
    },
    {
      "cell_type": "code",
      "source": [
        "liths= {\"sst\", \"dolo\", \"lst\", \"shale\"}\n",
        "\n",
        "for n in liths:\n",
        "  print (n)"
      ],
      "metadata": {
        "colab": {
          "base_uri": "https://localhost:8080/"
        },
        "id": "JN4123Z8SPoV",
        "outputId": "a1ffef41-0d17-4655-a852-b8ea70a2acc8"
      },
      "execution_count": 28,
      "outputs": [
        {
          "output_type": "stream",
          "name": "stdout",
          "text": [
            "dolo\n",
            "lst\n",
            "shale\n",
            "sst\n"
          ]
        }
      ]
    },
    {
      "cell_type": "code",
      "source": [
        "K_porcentajes= []\n",
        "\n",
        "Permeabilidades = [43, 34, 45, 43, 50, 49, 45.6, 47, 32, 11, 10, 43,11, 45, 44, 21, 45.2, 54.2, 22.3, 19.5, 44, 53, 34, 40]\n",
        "\n",
        "for x in Permeabilidades:\n",
        "  porcentajes= (x/100)\n",
        "\n",
        "  K_porcentajes.append(porcentajes)\n"
      ],
      "metadata": {
        "id": "TWCnUVHQTXc_"
      },
      "execution_count": 29,
      "outputs": []
    },
    {
      "cell_type": "code",
      "source": [
        "K_porcentajes"
      ],
      "metadata": {
        "id": "I8f_iS6fOQk2",
        "colab": {
          "base_uri": "https://localhost:8080/"
        },
        "outputId": "db7c4937-57f0-4969-98a6-9395514b87e9"
      },
      "execution_count": 30,
      "outputs": [
        {
          "output_type": "execute_result",
          "data": {
            "text/plain": [
              "[0.43,\n",
              " 0.34,\n",
              " 0.45,\n",
              " 0.43,\n",
              " 0.5,\n",
              " 0.49,\n",
              " 0.456,\n",
              " 0.47,\n",
              " 0.32,\n",
              " 0.11,\n",
              " 0.1,\n",
              " 0.43,\n",
              " 0.11,\n",
              " 0.45,\n",
              " 0.44,\n",
              " 0.21,\n",
              " 0.452,\n",
              " 0.542,\n",
              " 0.223,\n",
              " 0.195,\n",
              " 0.44,\n",
              " 0.53,\n",
              " 0.34,\n",
              " 0.4]"
            ]
          },
          "metadata": {},
          "execution_count": 30
        }
      ]
    },
    {
      "cell_type": "code",
      "source": [
        "nums = [1,2,3,4,5,6,7,8,9]\n",
        "\n",
        "for n in nums:\n",
        "  if n%2 == 0:\n",
        "      print(\"Even\")\n",
        "  else:\n",
        "      print(\"ODD\")"
      ],
      "metadata": {
        "colab": {
          "base_uri": "https://localhost:8080/"
        },
        "id": "4sqI9POX5ZVa",
        "outputId": "f5470d55-9946-4439-f003-18f9c88be030"
      },
      "execution_count": 31,
      "outputs": [
        {
          "output_type": "stream",
          "name": "stdout",
          "text": [
            "ODD\n",
            "Even\n",
            "ODD\n",
            "Even\n",
            "ODD\n",
            "Even\n",
            "ODD\n",
            "Even\n",
            "ODD\n"
          ]
        }
      ]
    },
    {
      "cell_type": "code",
      "source": [
        "my_numbers = [45, 34, 45, 43, 50, 49, 45.6, 47, 32, 11, 10]\n",
        "my_percentages = []\n",
        "\n",
        "passing_criterion = float(input(\"Hey Principal, enter the Pass criteria: \"))\n",
        "\n",
        "pass_or_fail = []\n",
        "\n",
        "for x in my_numbers:\n",
        "    percentages = (x/50) * 100\n",
        "    my_percentages.append(percentages)\n",
        "\n",
        "    if percentages >= passing_criterion:\n",
        "        pass_or_fail.append(\"PASS\")\n",
        "    else:\n",
        "        pass_or_fail.append(\"FAIL\")\n"
      ],
      "metadata": {
        "colab": {
          "base_uri": "https://localhost:8080/"
        },
        "id": "vwlrd5u4722K",
        "outputId": "a5839e0f-e56e-428e-c11f-df3681b56706"
      },
      "execution_count": 22,
      "outputs": [
        {
          "name": "stdout",
          "output_type": "stream",
          "text": [
            "Hey Principal, enter the Pass criteria: 30\n"
          ]
        }
      ]
    },
    {
      "cell_type": "code",
      "source": [
        "my_percentages"
      ],
      "metadata": {
        "colab": {
          "base_uri": "https://localhost:8080/"
        },
        "id": "W5SorMWS38vL",
        "outputId": "e828b4c4-9b27-465a-c8f4-2f1b8502464f"
      },
      "execution_count": 18,
      "outputs": [
        {
          "output_type": "execute_result",
          "data": {
            "text/plain": [
              "[90.0, 68.0, 90.0, 86.0, 100.0, 98.0, 91.2, 94.0, 64.0, 22.0, 20.0]"
            ]
          },
          "metadata": {},
          "execution_count": 18
        }
      ]
    },
    {
      "cell_type": "code",
      "source": [
        "print(pass_or_fail)"
      ],
      "metadata": {
        "colab": {
          "base_uri": "https://localhost:8080/"
        },
        "id": "TvucUFjz3-KZ",
        "outputId": "c1bb4e16-196c-40b7-a56a-6b34d6bbf829"
      },
      "execution_count": 23,
      "outputs": [
        {
          "output_type": "stream",
          "name": "stdout",
          "text": [
            "['PASS', 'PASS', 'PASS', 'PASS', 'PASS', 'PASS', 'PASS', 'PASS', 'PASS', 'FAIL', 'FAIL']\n"
          ]
        }
      ]
    },
    {
      "cell_type": "markdown",
      "source": [
        "## Глава 4 Функции / Funciones"
      ],
      "metadata": {
        "id": "yrQbVhivJa_1"
      }
    },
    {
      "cell_type": "code",
      "source": [
        "#Создание (определение) функций  / Crear (Definir) función\n",
        "def squarer(x):\n",
        "  sqr = x**2\n",
        "  return sqr"
      ],
      "metadata": {
        "id": "ucmHzIwALfQh"
      },
      "execution_count": 26,
      "outputs": []
    },
    {
      "cell_type": "code",
      "source": [
        "#вызвать / выполнить/ использовать функцию\n",
        "N= int(input(\"Ingresa el número  para elevarlo al cuadrado: \"))\n",
        "\n",
        "print(\"el número elevado al cuadrado es:\", squarer(N))"
      ],
      "metadata": {
        "colab": {
          "base_uri": "https://localhost:8080/"
        },
        "id": "4Jez6bbTL9ux",
        "outputId": "22fe1eb9-bf5f-4bd2-c141-8d892a3aa240"
      },
      "execution_count": 28,
      "outputs": [
        {
          "output_type": "stream",
          "name": "stdout",
          "text": [
            "Ingresa el número  para elevarlo al cuadrado: 60\n",
            "el número elevaadon al cuadrado es: 3600\n"
          ]
        }
      ]
    },
    {
      "cell_type": "code",
      "source": [
        "#y = x**2 + 3*x + 2\n",
        "def equation (x):\n",
        "  y = x**2 + 3*x + 2\n",
        "\n",
        "  return y"
      ],
      "metadata": {
        "id": "BaTGhm6yUCZe"
      },
      "execution_count": 30,
      "outputs": []
    },
    {
      "cell_type": "code",
      "source": [
        "equation(3)"
      ],
      "metadata": {
        "colab": {
          "base_uri": "https://localhost:8080/"
        },
        "id": "2x460rXQVn6s",
        "outputId": "d5c5e709-a38c-4457-e97a-17abffd92e4d"
      },
      "execution_count": 31,
      "outputs": [
        {
          "output_type": "execute_result",
          "data": {
            "text/plain": [
              "20"
            ]
          },
          "metadata": {},
          "execution_count": 31
        }
      ]
    },
    {
      "cell_type": "code",
      "source": [
        "def slope ():\n",
        "    k= int(input(\"Ingresa la permeabilidad: \"))\n",
        "    h= int(input(\"Ingresa el espesor: \"))\n",
        "    mu= int(input(\"Ingresa la viscosidad: \"))\n",
        "    B= float(input(\"Ingresa el coeficiente de formación \"))\n",
        "\n",
        "    lnrerw= 0.5\n",
        "    m= k*h/(141.2*mu*B*lnrerw)\n",
        "\n",
        "    return m"
      ],
      "metadata": {
        "id": "SOVaeYzdVw1L"
      },
      "execution_count": 38,
      "outputs": []
    },
    {
      "cell_type": "code",
      "source": [
        "slope()"
      ],
      "metadata": {
        "colab": {
          "base_uri": "https://localhost:8080/"
        },
        "id": "JVqXjnfcX-mT",
        "outputId": "b0971d88-1758-4b88-ac53-62aefb54078e"
      },
      "execution_count": 41,
      "outputs": [
        {
          "name": "stdout",
          "output_type": "stream",
          "text": [
            "Ingresa la permeabilidad: 300\n",
            "Ingresa el espesor: 50\n",
            "Ingresa la viscosidad: 20\n",
            "Ingresa el coeficiente de formación 1.2\n"
          ]
        },
        {
          "output_type": "execute_result",
          "data": {
            "text/plain": [
              "8.852691218130312"
            ]
          },
          "metadata": {},
          "execution_count": 41
        }
      ]
    },
    {
      "cell_type": "markdown",
      "source": [
        "*Project 2: Función para encontrar la gravedad API*"
      ],
      "metadata": {
        "id": "PrJR7Nj9LIaC"
      }
    },
    {
      "cell_type": "code",
      "source": [
        "def API(SG):\n",
        "  api= 141.5/SG - 131.5\n",
        "\n",
        "  return api"
      ],
      "metadata": {
        "id": "llSzlZ8HZr3U"
      },
      "execution_count": 42,
      "outputs": []
    },
    {
      "cell_type": "code",
      "source": [
        "API (1)"
      ],
      "metadata": {
        "colab": {
          "base_uri": "https://localhost:8080/"
        },
        "id": "Kpi3qvMGchNs",
        "outputId": "aa62f37c-f2be-422e-eb1a-ae7cc52deb94"
      },
      "execution_count": 46,
      "outputs": [
        {
          "output_type": "execute_result",
          "data": {
            "text/plain": [
              "10.0"
            ]
          },
          "metadata": {},
          "execution_count": 46
        }
      ]
    },
    {
      "cell_type": "markdown",
      "source": [
        "*Project 3: Funcion Landa / Funcion anónima*\n"
      ],
      "metadata": {
        "id": "X3zxofiqc-5j"
      }
    },
    {
      "cell_type": "code",
      "source": [
        "API = lambda SG : 141.5/SG - 131.5\n",
        "API(1)"
      ],
      "metadata": {
        "colab": {
          "base_uri": "https://localhost:8080/"
        },
        "id": "ah-JG4fGcjaY",
        "outputId": "4254ba0a-3c17-49e7-e91a-1a720451f419"
      },
      "execution_count": 47,
      "outputs": [
        {
          "output_type": "execute_result",
          "data": {
            "text/plain": [
              "10.0"
            ]
          },
          "metadata": {},
          "execution_count": 47
        }
      ]
    },
    {
      "cell_type": "markdown",
      "source": [
        "## Mini Project: Encontrar la raíz usando el método \"iterativo\" de Newton-Raphson"
      ],
      "metadata": {
        "id": "a5qE4Nijivtm"
      }
    },
    {
      "cell_type": "markdown",
      "source": [
        "![image.png](data:image/png;base64,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)"
      ],
      "metadata": {
        "id": "6BsRW6W2kLaq"
      }
    },
    {
      "cell_type": "code",
      "source": [
        "import math"
      ],
      "metadata": {
        "id": "f5189AExivOw"
      },
      "execution_count": 2,
      "outputs": []
    },
    {
      "cell_type": "code",
      "source": [
        "def f(x_0):\n",
        "  return 1 + x_0 - math.sin(x_0)\n",
        "\n",
        "def fdash(x_0):\n",
        "  return 1- math.cos(x_0)\n",
        "\n",
        "x0 = int(input(\"Introduzca la suposición inicial: \"))\n",
        "for i in range(200):\n",
        "    x0= x0 - f(x0)/fdash(x0)\n",
        "    if i%10 == 0:\n",
        "        print(x0)\n",
        "\n",
        "root= x0\n"
      ],
      "metadata": {
        "colab": {
          "base_uri": "https://localhost:8080/"
        },
        "id": "QrOYIFUBecBv",
        "outputId": "7347ffe8-a02c-48e8-fcf2-bc77631a7b7c"
      },
      "execution_count": 3,
      "outputs": [
        {
          "output_type": "stream",
          "name": "stdout",
          "text": [
            "Introduzca la suposición inicial: 20\n",
            "-13.935539799335714\n",
            "-1.9345632107520243\n",
            "-1.9345632107520243\n",
            "-1.9345632107520243\n",
            "-1.9345632107520243\n",
            "-1.9345632107520243\n",
            "-1.9345632107520243\n",
            "-1.9345632107520243\n",
            "-1.9345632107520243\n",
            "-1.9345632107520243\n",
            "-1.9345632107520243\n",
            "-1.9345632107520243\n",
            "-1.9345632107520243\n",
            "-1.9345632107520243\n",
            "-1.9345632107520243\n",
            "-1.9345632107520243\n",
            "-1.9345632107520243\n",
            "-1.9345632107520243\n",
            "-1.9345632107520243\n",
            "-1.9345632107520243\n"
          ]
        }
      ]
    },
    {
      "cell_type": "code",
      "source": [
        "root"
      ],
      "metadata": {
        "colab": {
          "base_uri": "https://localhost:8080/"
        },
        "id": "3bII8v51dm4U",
        "outputId": "a2058c6c-cde4-41f6-974c-de297a81d3ed"
      },
      "execution_count": 4,
      "outputs": [
        {
          "output_type": "execute_result",
          "data": {
            "text/plain": [
              "-1.9345632107520243"
            ]
          },
          "metadata": {},
          "execution_count": 4
        }
      ]
    },
    {
      "cell_type": "code",
      "source": [],
      "metadata": {
        "id": "kYYn98NDdnu7"
      },
      "execution_count": null,
      "outputs": []
    }
  ]
}