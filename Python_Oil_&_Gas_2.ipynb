{
  "nbformat": 4,
  "nbformat_minor": 0,
  "metadata": {
    "colab": {
      "provenance": [],
      "authorship_tag": "ABX9TyOdbqLfwUS6zN9zyOZQy7IW",
      "include_colab_link": true
    },
    "kernelspec": {
      "name": "python3",
      "display_name": "Python 3"
    },
    "language_info": {
      "name": "python"
    }
  },
  "cells": [
    {
      "cell_type": "markdown",
      "metadata": {
        "id": "view-in-github",
        "colab_type": "text"
      },
      "source": [
        "<a href=\"https://colab.research.google.com/github/edisonc57/Practical-course-Python/blob/main/Python_Oil_%26_Gas_2.ipynb\" target=\"_parent\"><img src=\"https://colab.research.google.com/assets/colab-badge.svg\" alt=\"Open In Colab\"/></a>"
      ]
    },
    {
      "cell_type": "markdown",
      "source": [
        "##*El poder de la automatización y comenzando con el Data Analysis*"
      ],
      "metadata": {
        "id": "dZ2DDYrg8u6e"
      }
    },
    {
      "cell_type": "markdown",
      "source": [
        "## Глава 1 Оператор сравнение / Operadores de comparacion"
      ],
      "metadata": {
        "id": "MivpgGBuLD1b"
      }
    },
    {
      "cell_type": "code",
      "execution_count": null,
      "metadata": {
        "colab": {
          "base_uri": "https://localhost:8080/"
        },
        "id": "U2GxghUm8ZwC",
        "outputId": "5950787c-fe06-4053-8c61-7e6f0e1e2d41"
      },
      "outputs": [
        {
          "output_type": "execute_result",
          "data": {
            "text/plain": [
              "True"
            ]
          },
          "metadata": {},
          "execution_count": 1
        }
      ],
      "source": [
        "5>2"
      ]
    },
    {
      "cell_type": "code",
      "source": [
        "type(5>2 )"
      ],
      "metadata": {
        "colab": {
          "base_uri": "https://localhost:8080/"
        },
        "id": "mPFEal8yL68_",
        "outputId": "e01b4872-7e0f-4a34-f4b8-551279b5c1cb"
      },
      "execution_count": null,
      "outputs": [
        {
          "output_type": "execute_result",
          "data": {
            "text/plain": [
              "bool"
            ]
          },
          "metadata": {},
          "execution_count": 2
        }
      ]
    },
    {
      "cell_type": "code",
      "source": [
        "5<2"
      ],
      "metadata": {
        "colab": {
          "base_uri": "https://localhost:8080/"
        },
        "id": "e6NYYaQ3L81z",
        "outputId": "b384750f-af98-4ca2-f50e-f6a194b4d3d5"
      },
      "execution_count": null,
      "outputs": [
        {
          "output_type": "execute_result",
          "data": {
            "text/plain": [
              "False"
            ]
          },
          "metadata": {},
          "execution_count": 3
        }
      ]
    },
    {
      "cell_type": "code",
      "source": [
        "5=5"
      ],
      "metadata": {
        "colab": {
          "base_uri": "https://localhost:8080/",
          "height": 110
        },
        "id": "9P6YZEs7MqV5",
        "outputId": "53e47dfb-47c0-4e70-81e5-c3736b7e8614"
      },
      "execution_count": null,
      "outputs": [
        {
          "output_type": "error",
          "ename": "SyntaxError",
          "evalue": "cannot assign to literal here. Maybe you meant '==' instead of '='? (<ipython-input-1-716d4afe7cec>, line 1)",
          "traceback": [
            "\u001b[0;36m  File \u001b[0;32m\"<ipython-input-1-716d4afe7cec>\"\u001b[0;36m, line \u001b[0;32m1\u001b[0m\n\u001b[0;31m    5=5\u001b[0m\n\u001b[0m    ^\u001b[0m\n\u001b[0;31mSyntaxError\u001b[0m\u001b[0;31m:\u001b[0m cannot assign to literal here. Maybe you meant '==' instead of '='?\n"
          ]
        }
      ]
    },
    {
      "cell_type": "code",
      "source": [
        "5>=2 , 2<=5"
      ],
      "metadata": {
        "colab": {
          "base_uri": "https://localhost:8080/"
        },
        "id": "cEQk8mmLLXg2",
        "outputId": "79efd662-b7dd-412e-c113-44b2184e5199"
      },
      "execution_count": null,
      "outputs": [
        {
          "output_type": "execute_result",
          "data": {
            "text/plain": [
              "(True, True)"
            ]
          },
          "metadata": {},
          "execution_count": 3
        }
      ]
    },
    {
      "cell_type": "code",
      "source": [
        "5==5"
      ],
      "metadata": {
        "colab": {
          "base_uri": "https://localhost:8080/"
        },
        "id": "0I7mN1GvNiAc",
        "outputId": "0c984c71-2743-48aa-e5ed-3ce77bddbadd"
      },
      "execution_count": null,
      "outputs": [
        {
          "output_type": "execute_result",
          "data": {
            "text/plain": [
              "True"
            ]
          },
          "metadata": {},
          "execution_count": 4
        }
      ]
    },
    {
      "cell_type": "code",
      "source": [
        "k_A= input(\"ingrese la permeabilidad en (md)\")\n"
      ],
      "metadata": {
        "colab": {
          "base_uri": "https://localhost:8080/"
        },
        "id": "HY4KYih9Nzyp",
        "outputId": "854dc5f3-30f6-4857-f668-276cd742a000"
      },
      "execution_count": null,
      "outputs": [
        {
          "name": "stdout",
          "output_type": "stream",
          "text": [
            "ingrese la permeabilidad en (md)50\n"
          ]
        }
      ]
    },
    {
      "cell_type": "code",
      "source": [
        "print(\"La permeabilidad es\", k_A)"
      ],
      "metadata": {
        "colab": {
          "base_uri": "https://localhost:8080/"
        },
        "id": "o83ss1NHUPzs",
        "outputId": "c27f71aa-202f-4837-ed42-cff40f13f03f"
      },
      "execution_count": null,
      "outputs": [
        {
          "output_type": "stream",
          "name": "stdout",
          "text": [
            "La permeabilidad es 50\n"
          ]
        }
      ]
    },
    {
      "cell_type": "code",
      "source": [
        "type(k_A)"
      ],
      "metadata": {
        "colab": {
          "base_uri": "https://localhost:8080/"
        },
        "id": "BAtCkTSKUesP",
        "outputId": "8286def6-1cee-4922-d2c5-ccde53deb5c3"
      },
      "execution_count": null,
      "outputs": [
        {
          "output_type": "execute_result",
          "data": {
            "text/plain": [
              "str"
            ]
          },
          "metadata": {},
          "execution_count": 12
        }
      ]
    },
    {
      "cell_type": "code",
      "source": [
        "K_Cushabatay= input(\"Ingresar la permeabilidad en md: \")\n"
      ],
      "metadata": {
        "colab": {
          "base_uri": "https://localhost:8080/"
        },
        "id": "YLlKLJvnUf8P",
        "outputId": "07123314-71e7-460c-b5c4-793ec83c7804"
      },
      "execution_count": null,
      "outputs": [
        {
          "name": "stdout",
          "output_type": "stream",
          "text": [
            "Ingresar la permeabilidad en md: 50\n"
          ]
        }
      ]
    },
    {
      "cell_type": "code",
      "source": [
        "type(K_Cushabatay)"
      ],
      "metadata": {
        "colab": {
          "base_uri": "https://localhost:8080/"
        },
        "id": "2MIT2VbiWs_H",
        "outputId": "ee4420b9-dd57-4b17-90d4-76084cc125dd"
      },
      "execution_count": null,
      "outputs": [
        {
          "output_type": "execute_result",
          "data": {
            "text/plain": [
              "str"
            ]
          },
          "metadata": {},
          "execution_count": 18
        }
      ]
    },
    {
      "cell_type": "code",
      "source": [
        "K_Cushabatay= float(K_Cushabatay)\n",
        "type(K_Cushabatay)"
      ],
      "metadata": {
        "colab": {
          "base_uri": "https://localhost:8080/"
        },
        "id": "4OssqRB6WxxE",
        "outputId": "1ff44618-5dc1-4dca-8d0a-a68e5f41599e"
      },
      "execution_count": null,
      "outputs": [
        {
          "output_type": "execute_result",
          "data": {
            "text/plain": [
              "float"
            ]
          },
          "metadata": {},
          "execution_count": 19
        }
      ]
    },
    {
      "cell_type": "markdown",
      "source": [
        "## Глава 2 if - else Условные операторы  /  *Operadores condicionales*"
      ],
      "metadata": {
        "id": "TPWBw0HnYE7k"
      }
    },
    {
      "cell_type": "code",
      "source": [
        "if 5>3:\n",
        "  print(\"5 es mayor que 3\")\n",
        "else:\n",
        "  print(\"5 no es mayor que 3\")"
      ],
      "metadata": {
        "colab": {
          "base_uri": "https://localhost:8080/"
        },
        "id": "d39luCpOYXf9",
        "outputId": "ba19807a-7e7a-48b4-a6cf-0ff122e94cbc"
      },
      "execution_count": null,
      "outputs": [
        {
          "output_type": "stream",
          "name": "stdout",
          "text": [
            "5 es mayor que 3\n"
          ]
        }
      ]
    },
    {
      "cell_type": "code",
      "source": [
        "if 5 <3:\n",
        "  print(\"está mal\")\n",
        "else:\n",
        "  print(\"No, 5 es > que 3\")"
      ],
      "metadata": {
        "colab": {
          "base_uri": "https://localhost:8080/"
        },
        "id": "9_5VV2OOap8k",
        "outputId": "827e439b-f7fb-46ba-d41d-934411aee53b"
      },
      "execution_count": null,
      "outputs": [
        {
          "output_type": "stream",
          "name": "stdout",
          "text": [
            "No, 5 es > que 3\n"
          ]
        }
      ]
    },
    {
      "cell_type": "code",
      "source": [
        "if 5<3:\n",
        "  print(\"No, 5 es mayor que 3\")\n",
        "elif 5==5 :\n",
        "  print(\"Block 2\")\n",
        "else:\n",
        "  print(\"Es verdad\")"
      ],
      "metadata": {
        "colab": {
          "base_uri": "https://localhost:8080/"
        },
        "id": "a0sFPLVjez-Y",
        "outputId": "82e8426a-3acc-4490-ec8b-6468151f1ca1"
      },
      "execution_count": null,
      "outputs": [
        {
          "output_type": "stream",
          "name": "stdout",
          "text": [
            "Block 2\n"
          ]
        }
      ]
    },
    {
      "cell_type": "markdown",
      "source": [
        "Пример / Ejemplo"
      ],
      "metadata": {
        "id": "IBDqUs7OmoTE"
      }
    },
    {
      "cell_type": "code",
      "source": [
        "K_1= input(\"Ingresa la porosidad del la formación A: \")\n",
        "\n",
        "K_2= input(\"Ingresa la porosidad del la formación B : \")\n",
        "\n",
        "if K_1 > K_2:\n",
        "  print(\" Tomaremos la  porosidad de la formacion A para calcular las reservas\")\n",
        "\n",
        "elif K_1 == K_2:\n",
        "  print(\"Las porosidades son iguales, entonces vamos a evaluar de otra manera\")\n",
        "\n",
        "if K_1 < K_2:\n",
        "  print(\"Tomaremos la  porosidad de la formacion B  para calcular las reservas\")"
      ],
      "metadata": {
        "colab": {
          "base_uri": "https://localhost:8080/"
        },
        "id": "cf0DI6BClRBA",
        "outputId": "72fe91e4-c0e7-4d82-a49a-9c8853e7a5a9"
      },
      "execution_count": null,
      "outputs": [
        {
          "output_type": "stream",
          "name": "stdout",
          "text": [
            "Ingresa la porosidad del la formación A: 20\n",
            "Ingresa la porosidad del la formación B : 20\n",
            "Las porosidades son iguales, entonces vamos a evaluar de otra manera\n"
          ]
        }
      ]
    },
    {
      "cell_type": "markdown",
      "source": [
        "Combinando multiples comparaciones juntas"
      ],
      "metadata": {
        "id": "s3DvxXhNxkOj"
      }
    },
    {
      "cell_type": "code",
      "source": [
        "5>3 and 5>4"
      ],
      "metadata": {
        "colab": {
          "base_uri": "https://localhost:8080/"
        },
        "id": "F3llGwwtyKBB",
        "outputId": "f46bba4f-39bd-4870-eff5-5f830c4db6f8"
      },
      "execution_count": null,
      "outputs": [
        {
          "output_type": "execute_result",
          "data": {
            "text/plain": [
              "True"
            ]
          },
          "metadata": {},
          "execution_count": 37
        }
      ]
    },
    {
      "cell_type": "code",
      "source": [
        "5>3 or 5>20"
      ],
      "metadata": {
        "colab": {
          "base_uri": "https://localhost:8080/"
        },
        "id": "sO2JDsQ1yO3S",
        "outputId": "f58d1fd3-04d2-4dfa-90f1-3fd21cc59967"
      },
      "execution_count": null,
      "outputs": [
        {
          "output_type": "execute_result",
          "data": {
            "text/plain": [
              "True"
            ]
          },
          "metadata": {},
          "execution_count": 38
        }
      ]
    },
    {
      "cell_type": "code",
      "source": [
        "5>3 | 5>20"
      ],
      "metadata": {
        "colab": {
          "base_uri": "https://localhost:8080/"
        },
        "id": "4I3Drqtrye5n",
        "outputId": "5fccc496-d0cd-4ec2-dd06-0fd1fa1813de"
      },
      "execution_count": null,
      "outputs": [
        {
          "output_type": "execute_result",
          "data": {
            "text/plain": [
              "False"
            ]
          },
          "metadata": {},
          "execution_count": 39
        }
      ]
    },
    {
      "cell_type": "code",
      "source": [
        "5>3 & 5>41"
      ],
      "metadata": {
        "colab": {
          "base_uri": "https://localhost:8080/"
        },
        "id": "VlFCPEPc4QfO",
        "outputId": "766e62fa-0064-41d4-e96d-6a7700820858"
      },
      "execution_count": null,
      "outputs": [
        {
          "output_type": "execute_result",
          "data": {
            "text/plain": [
              "False"
            ]
          },
          "metadata": {},
          "execution_count": 41
        }
      ]
    },
    {
      "cell_type": "code",
      "source": [
        "not 1"
      ],
      "metadata": {
        "colab": {
          "base_uri": "https://localhost:8080/"
        },
        "id": "oGOWkn5w5OFc",
        "outputId": "977feffc-3e18-4322-b420-52c31bcf4e64"
      },
      "execution_count": null,
      "outputs": [
        {
          "output_type": "execute_result",
          "data": {
            "text/plain": [
              "False"
            ]
          },
          "metadata": {},
          "execution_count": 42
        }
      ]
    },
    {
      "cell_type": "code",
      "source": [
        "not 0"
      ],
      "metadata": {
        "colab": {
          "base_uri": "https://localhost:8080/"
        },
        "id": "uQssB3Sm5QK0",
        "outputId": "1ed64a0f-1e47-4cc9-cb7a-6c5127da377e"
      },
      "execution_count": null,
      "outputs": [
        {
          "output_type": "execute_result",
          "data": {
            "text/plain": [
              "True"
            ]
          },
          "metadata": {},
          "execution_count": 43
        }
      ]
    },
    {
      "cell_type": "code",
      "source": [
        "not 5>3"
      ],
      "metadata": {
        "colab": {
          "base_uri": "https://localhost:8080/"
        },
        "id": "12vzs5tiOLh5",
        "outputId": "598621d2-8b42-4d50-d236-83e8874bd1ef"
      },
      "execution_count": null,
      "outputs": [
        {
          "output_type": "execute_result",
          "data": {
            "text/plain": [
              "False"
            ]
          },
          "metadata": {},
          "execution_count": 44
        }
      ]
    },
    {
      "cell_type": "code",
      "source": [
        "1 is 2"
      ],
      "metadata": {
        "colab": {
          "base_uri": "https://localhost:8080/"
        },
        "id": "rTyKBsdlOOL0",
        "outputId": "4c18fe72-c8d0-4a50-a2db-fca3ed04de05"
      },
      "execution_count": null,
      "outputs": [
        {
          "output_type": "stream",
          "name": "stderr",
          "text": [
            "<>:1: SyntaxWarning: \"is\" with a literal. Did you mean \"==\"?\n",
            "<>:1: SyntaxWarning: \"is\" with a literal. Did you mean \"==\"?\n",
            "<ipython-input-45-e6a694773981>:1: SyntaxWarning: \"is\" with a literal. Did you mean \"==\"?\n",
            "  1 is 2\n"
          ]
        },
        {
          "output_type": "execute_result",
          "data": {
            "text/plain": [
              "False"
            ]
          },
          "metadata": {},
          "execution_count": 45
        }
      ]
    },
    {
      "cell_type": "markdown",
      "source": [
        "## Глава 3 / Capítulo 3 Loops e Interaciones"
      ],
      "metadata": {
        "id": "duSeIetLRF-x"
      }
    },
    {
      "cell_type": "code",
      "source": [
        "liths= {\"sst\", \"dolo\", \"lst\", \"shale\"}\n",
        "\n",
        "for n in liths:\n",
        "  print (n)"
      ],
      "metadata": {
        "colab": {
          "base_uri": "https://localhost:8080/"
        },
        "id": "JN4123Z8SPoV",
        "outputId": "cd9456dd-9b45-4141-c99c-282d9626236a"
      },
      "execution_count": null,
      "outputs": [
        {
          "output_type": "stream",
          "name": "stdout",
          "text": [
            "shale\n",
            "dolo\n",
            "sst\n",
            "lst\n"
          ]
        }
      ]
    },
    {
      "cell_type": "code",
      "source": [],
      "metadata": {
        "id": "TWCnUVHQTXc_"
      },
      "execution_count": null,
      "outputs": []
    },
    {
      "cell_type": "code",
      "source": [],
      "metadata": {
        "id": "I8f_iS6fOQk2"
      },
      "execution_count": null,
      "outputs": []
    }
  ]
}