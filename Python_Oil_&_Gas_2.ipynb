{
  "nbformat": 4,
  "nbformat_minor": 0,
  "metadata": {
    "colab": {
      "provenance": [],
      "authorship_tag": "ABX9TyMEaeIYw+zK/jSmj7G3wNL+",
      "include_colab_link": true
    },
    "kernelspec": {
      "name": "python3",
      "display_name": "Python 3"
    },
    "language_info": {
      "name": "python"
    }
  },
  "cells": [
    {
      "cell_type": "markdown",
      "metadata": {
        "id": "view-in-github",
        "colab_type": "text"
      },
      "source": [
        "<a href=\"https://colab.research.google.com/github/edisonc57/Practical-course-Python/blob/main/Python_Oil_%26_Gas_2.ipynb\" target=\"_parent\"><img src=\"https://colab.research.google.com/assets/colab-badge.svg\" alt=\"Open In Colab\"/></a>"
      ]
    },
    {
      "cell_type": "markdown",
      "source": [
        "##*El poder de la automatización y comenzando con el Data Analysis*"
      ],
      "metadata": {
        "id": "dZ2DDYrg8u6e"
      }
    },
    {
      "cell_type": "markdown",
      "source": [
        "## Глава 1 Оператор сравнение / Operadores de comparacion"
      ],
      "metadata": {
        "id": "MivpgGBuLD1b"
      }
    },
    {
      "cell_type": "code",
      "execution_count": null,
      "metadata": {
        "colab": {
          "base_uri": "https://localhost:8080/"
        },
        "id": "U2GxghUm8ZwC",
        "outputId": "5950787c-fe06-4053-8c61-7e6f0e1e2d41"
      },
      "outputs": [
        {
          "output_type": "execute_result",
          "data": {
            "text/plain": [
              "True"
            ]
          },
          "metadata": {},
          "execution_count": 1
        }
      ],
      "source": [
        "5>2"
      ]
    },
    {
      "cell_type": "code",
      "source": [
        "type(5>2 )"
      ],
      "metadata": {
        "colab": {
          "base_uri": "https://localhost:8080/"
        },
        "id": "mPFEal8yL68_",
        "outputId": "e01b4872-7e0f-4a34-f4b8-551279b5c1cb"
      },
      "execution_count": null,
      "outputs": [
        {
          "output_type": "execute_result",
          "data": {
            "text/plain": [
              "bool"
            ]
          },
          "metadata": {},
          "execution_count": 2
        }
      ]
    },
    {
      "cell_type": "code",
      "source": [
        "5<2"
      ],
      "metadata": {
        "colab": {
          "base_uri": "https://localhost:8080/"
        },
        "id": "e6NYYaQ3L81z",
        "outputId": "b384750f-af98-4ca2-f50e-f6a194b4d3d5"
      },
      "execution_count": null,
      "outputs": [
        {
          "output_type": "execute_result",
          "data": {
            "text/plain": [
              "False"
            ]
          },
          "metadata": {},
          "execution_count": 3
        }
      ]
    },
    {
      "cell_type": "code",
      "source": [
        "5=5"
      ],
      "metadata": {
        "colab": {
          "base_uri": "https://localhost:8080/",
          "height": 110
        },
        "id": "9P6YZEs7MqV5",
        "outputId": "53e47dfb-47c0-4e70-81e5-c3736b7e8614"
      },
      "execution_count": null,
      "outputs": [
        {
          "output_type": "error",
          "ename": "SyntaxError",
          "evalue": "cannot assign to literal here. Maybe you meant '==' instead of '='? (<ipython-input-1-716d4afe7cec>, line 1)",
          "traceback": [
            "\u001b[0;36m  File \u001b[0;32m\"<ipython-input-1-716d4afe7cec>\"\u001b[0;36m, line \u001b[0;32m1\u001b[0m\n\u001b[0;31m    5=5\u001b[0m\n\u001b[0m    ^\u001b[0m\n\u001b[0;31mSyntaxError\u001b[0m\u001b[0;31m:\u001b[0m cannot assign to literal here. Maybe you meant '==' instead of '='?\n"
          ]
        }
      ]
    },
    {
      "cell_type": "code",
      "source": [
        "5>=2 , 2<=5"
      ],
      "metadata": {
        "colab": {
          "base_uri": "https://localhost:8080/"
        },
        "id": "cEQk8mmLLXg2",
        "outputId": "79efd662-b7dd-412e-c113-44b2184e5199"
      },
      "execution_count": null,
      "outputs": [
        {
          "output_type": "execute_result",
          "data": {
            "text/plain": [
              "(True, True)"
            ]
          },
          "metadata": {},
          "execution_count": 3
        }
      ]
    },
    {
      "cell_type": "code",
      "source": [
        "5==5"
      ],
      "metadata": {
        "colab": {
          "base_uri": "https://localhost:8080/"
        },
        "id": "0I7mN1GvNiAc",
        "outputId": "0c984c71-2743-48aa-e5ed-3ce77bddbadd"
      },
      "execution_count": null,
      "outputs": [
        {
          "output_type": "execute_result",
          "data": {
            "text/plain": [
              "True"
            ]
          },
          "metadata": {},
          "execution_count": 4
        }
      ]
    },
    {
      "cell_type": "code",
      "source": [
        "k_A= input(\"ingrese la permeabilidad en (md)\")\n"
      ],
      "metadata": {
        "colab": {
          "base_uri": "https://localhost:8080/"
        },
        "id": "HY4KYih9Nzyp",
        "outputId": "854dc5f3-30f6-4857-f668-276cd742a000"
      },
      "execution_count": null,
      "outputs": [
        {
          "name": "stdout",
          "output_type": "stream",
          "text": [
            "ingrese la permeabilidad en (md)50\n"
          ]
        }
      ]
    },
    {
      "cell_type": "code",
      "source": [
        "print(\"La permeabilidad es\", k_A)"
      ],
      "metadata": {
        "colab": {
          "base_uri": "https://localhost:8080/"
        },
        "id": "o83ss1NHUPzs",
        "outputId": "c27f71aa-202f-4837-ed42-cff40f13f03f"
      },
      "execution_count": null,
      "outputs": [
        {
          "output_type": "stream",
          "name": "stdout",
          "text": [
            "La permeabilidad es 50\n"
          ]
        }
      ]
    },
    {
      "cell_type": "code",
      "source": [
        "type(k_A)"
      ],
      "metadata": {
        "colab": {
          "base_uri": "https://localhost:8080/"
        },
        "id": "BAtCkTSKUesP",
        "outputId": "8286def6-1cee-4922-d2c5-ccde53deb5c3"
      },
      "execution_count": null,
      "outputs": [
        {
          "output_type": "execute_result",
          "data": {
            "text/plain": [
              "str"
            ]
          },
          "metadata": {},
          "execution_count": 12
        }
      ]
    },
    {
      "cell_type": "code",
      "source": [
        "K_Cushabatay= input(\"Ingresar la permeabilidad en md: \")\n"
      ],
      "metadata": {
        "colab": {
          "base_uri": "https://localhost:8080/"
        },
        "id": "YLlKLJvnUf8P",
        "outputId": "07123314-71e7-460c-b5c4-793ec83c7804"
      },
      "execution_count": null,
      "outputs": [
        {
          "name": "stdout",
          "output_type": "stream",
          "text": [
            "Ingresar la permeabilidad en md: 50\n"
          ]
        }
      ]
    },
    {
      "cell_type": "code",
      "source": [
        "type(K_Cushabatay)"
      ],
      "metadata": {
        "colab": {
          "base_uri": "https://localhost:8080/"
        },
        "id": "2MIT2VbiWs_H",
        "outputId": "ee4420b9-dd57-4b17-90d4-76084cc125dd"
      },
      "execution_count": null,
      "outputs": [
        {
          "output_type": "execute_result",
          "data": {
            "text/plain": [
              "str"
            ]
          },
          "metadata": {},
          "execution_count": 18
        }
      ]
    },
    {
      "cell_type": "code",
      "source": [
        "K_Cushabatay= float(K_Cushabatay)\n",
        "type(K_Cushabatay)"
      ],
      "metadata": {
        "colab": {
          "base_uri": "https://localhost:8080/"
        },
        "id": "4OssqRB6WxxE",
        "outputId": "1ff44618-5dc1-4dca-8d0a-a68e5f41599e"
      },
      "execution_count": null,
      "outputs": [
        {
          "output_type": "execute_result",
          "data": {
            "text/plain": [
              "float"
            ]
          },
          "metadata": {},
          "execution_count": 19
        }
      ]
    },
    {
      "cell_type": "markdown",
      "source": [
        "## Глава 2 if - else Условные операторы  /  *Operadores condicionales*"
      ],
      "metadata": {
        "id": "TPWBw0HnYE7k"
      }
    },
    {
      "cell_type": "code",
      "source": [
        "if 5>3:\n",
        "  print(\"5 es mayor que 3\")\n",
        "else:\n",
        "  print(\"5 no es mayor que 3\")"
      ],
      "metadata": {
        "colab": {
          "base_uri": "https://localhost:8080/"
        },
        "id": "d39luCpOYXf9",
        "outputId": "b2e5f1ec-0e8f-48e0-9c23-c802c65d44c5"
      },
      "execution_count": 16,
      "outputs": [
        {
          "output_type": "stream",
          "name": "stdout",
          "text": [
            "5 es mayor que 3\n"
          ]
        }
      ]
    },
    {
      "cell_type": "code",
      "source": [
        "if 5 <3:\n",
        "  print(\"está mal\")\n",
        "else:\n",
        "  print(\"No, 5 es > que 3\")"
      ],
      "metadata": {
        "colab": {
          "base_uri": "https://localhost:8080/"
        },
        "id": "9_5VV2OOap8k",
        "outputId": "509f6656-fa53-4035-bb4c-266639926921"
      },
      "execution_count": 17,
      "outputs": [
        {
          "output_type": "stream",
          "name": "stdout",
          "text": [
            "No, 5 es > que 3\n"
          ]
        }
      ]
    },
    {
      "cell_type": "code",
      "source": [
        "if 5<3:\n",
        "  print(\"No, 5 es mayor que 3\")\n",
        "elif 5==5 :\n",
        "  print(\"Block 2\")\n",
        "else:\n",
        "  print(\"Es verdad\")"
      ],
      "metadata": {
        "colab": {
          "base_uri": "https://localhost:8080/"
        },
        "id": "a0sFPLVjez-Y",
        "outputId": "359bdae8-0553-4a32-9fb9-9a20db1a9ed5"
      },
      "execution_count": 18,
      "outputs": [
        {
          "output_type": "stream",
          "name": "stdout",
          "text": [
            "Block 2\n"
          ]
        }
      ]
    },
    {
      "cell_type": "markdown",
      "source": [
        "Пример / Ejemplo"
      ],
      "metadata": {
        "id": "IBDqUs7OmoTE"
      }
    },
    {
      "cell_type": "code",
      "source": [
        "K_1= input(\"Ingresa la porosidad del la formación A: \")\n",
        "\n",
        "K_2= input(\"Ingresa la porosidad del la formación B : \")\n",
        "\n",
        "if K_1 > K_2:\n",
        "  print(\" Tomaremos la  porosidad de la formacion A para calcular las reservas\")\n",
        "\n",
        "elif K_1 == K_2:\n",
        "  print(\"Las porosidades son iguales, entonces vamos a evaluar de otra manera\")\n",
        "\n",
        "if K_1 < K_2:\n",
        "  print(\"Tomaremos la  porosidad de la formacion B  para calcular las reservas\")"
      ],
      "metadata": {
        "colab": {
          "base_uri": "https://localhost:8080/"
        },
        "id": "cf0DI6BClRBA",
        "outputId": "8833c73d-9420-4b68-c72b-7e2b9123513c"
      },
      "execution_count": 19,
      "outputs": [
        {
          "output_type": "stream",
          "name": "stdout",
          "text": [
            "Ingresa la porosidad del la formación A: 55\n",
            "Ingresa la porosidad del la formación B : 60\n",
            "Tomaremos la  porosidad de la formacion B  para calcular las reservas\n"
          ]
        }
      ]
    },
    {
      "cell_type": "markdown",
      "source": [
        "Combinando multiples comparaciones juntas"
      ],
      "metadata": {
        "id": "s3DvxXhNxkOj"
      }
    },
    {
      "cell_type": "code",
      "source": [
        "5>3 and 5>4"
      ],
      "metadata": {
        "colab": {
          "base_uri": "https://localhost:8080/"
        },
        "id": "F3llGwwtyKBB",
        "outputId": "190017eb-48be-44f4-8af1-b60a63b476a6"
      },
      "execution_count": 20,
      "outputs": [
        {
          "output_type": "execute_result",
          "data": {
            "text/plain": [
              "True"
            ]
          },
          "metadata": {},
          "execution_count": 20
        }
      ]
    },
    {
      "cell_type": "code",
      "source": [
        "5>3 or 5>20"
      ],
      "metadata": {
        "colab": {
          "base_uri": "https://localhost:8080/"
        },
        "id": "sO2JDsQ1yO3S",
        "outputId": "40f478f8-e0ac-44fc-b94c-d1ec23bd1415"
      },
      "execution_count": 21,
      "outputs": [
        {
          "output_type": "execute_result",
          "data": {
            "text/plain": [
              "True"
            ]
          },
          "metadata": {},
          "execution_count": 21
        }
      ]
    },
    {
      "cell_type": "code",
      "source": [
        "5>3 | 5>20"
      ],
      "metadata": {
        "colab": {
          "base_uri": "https://localhost:8080/"
        },
        "id": "4I3Drqtrye5n",
        "outputId": "01800fa8-fd2e-48d9-d62d-7a526ea29c3d"
      },
      "execution_count": 22,
      "outputs": [
        {
          "output_type": "execute_result",
          "data": {
            "text/plain": [
              "False"
            ]
          },
          "metadata": {},
          "execution_count": 22
        }
      ]
    },
    {
      "cell_type": "code",
      "source": [
        "5>3 & 5>41"
      ],
      "metadata": {
        "colab": {
          "base_uri": "https://localhost:8080/"
        },
        "id": "VlFCPEPc4QfO",
        "outputId": "1f89cab7-c861-4844-ac96-71fdb095bcc5"
      },
      "execution_count": 23,
      "outputs": [
        {
          "output_type": "execute_result",
          "data": {
            "text/plain": [
              "False"
            ]
          },
          "metadata": {},
          "execution_count": 23
        }
      ]
    },
    {
      "cell_type": "code",
      "source": [
        "not 1"
      ],
      "metadata": {
        "colab": {
          "base_uri": "https://localhost:8080/"
        },
        "id": "oGOWkn5w5OFc",
        "outputId": "0ac7dfe2-bcb5-4437-baf7-f9263ffc7f5b"
      },
      "execution_count": 24,
      "outputs": [
        {
          "output_type": "execute_result",
          "data": {
            "text/plain": [
              "False"
            ]
          },
          "metadata": {},
          "execution_count": 24
        }
      ]
    },
    {
      "cell_type": "code",
      "source": [
        "not 0"
      ],
      "metadata": {
        "colab": {
          "base_uri": "https://localhost:8080/"
        },
        "id": "uQssB3Sm5QK0",
        "outputId": "9c7bf10e-9341-45b4-ba07-2de31a95ec75"
      },
      "execution_count": 25,
      "outputs": [
        {
          "output_type": "execute_result",
          "data": {
            "text/plain": [
              "True"
            ]
          },
          "metadata": {},
          "execution_count": 25
        }
      ]
    },
    {
      "cell_type": "code",
      "source": [
        "not 5>3"
      ],
      "metadata": {
        "colab": {
          "base_uri": "https://localhost:8080/"
        },
        "id": "12vzs5tiOLh5",
        "outputId": "b5387893-09ac-45e4-fdca-08c591647728"
      },
      "execution_count": 26,
      "outputs": [
        {
          "output_type": "execute_result",
          "data": {
            "text/plain": [
              "False"
            ]
          },
          "metadata": {},
          "execution_count": 26
        }
      ]
    },
    {
      "cell_type": "code",
      "source": [
        "1 is 2"
      ],
      "metadata": {
        "colab": {
          "base_uri": "https://localhost:8080/"
        },
        "id": "rTyKBsdlOOL0",
        "outputId": "c445a26d-55f5-4b42-de18-346d03daab21"
      },
      "execution_count": 27,
      "outputs": [
        {
          "output_type": "stream",
          "name": "stderr",
          "text": [
            "<>:1: SyntaxWarning: \"is\" with a literal. Did you mean \"==\"?\n",
            "<>:1: SyntaxWarning: \"is\" with a literal. Did you mean \"==\"?\n",
            "<ipython-input-27-e6a694773981>:1: SyntaxWarning: \"is\" with a literal. Did you mean \"==\"?\n",
            "  1 is 2\n"
          ]
        },
        {
          "output_type": "execute_result",
          "data": {
            "text/plain": [
              "False"
            ]
          },
          "metadata": {},
          "execution_count": 27
        }
      ]
    },
    {
      "cell_type": "markdown",
      "source": [
        "## Глава 3 / Capítulo 3 Loops e Interaciones"
      ],
      "metadata": {
        "id": "duSeIetLRF-x"
      }
    },
    {
      "cell_type": "code",
      "source": [
        "liths= {\"sst\", \"dolo\", \"lst\", \"shale\"}\n",
        "\n",
        "for n in liths:\n",
        "  print (n)"
      ],
      "metadata": {
        "colab": {
          "base_uri": "https://localhost:8080/"
        },
        "id": "JN4123Z8SPoV",
        "outputId": "a1ffef41-0d17-4655-a852-b8ea70a2acc8"
      },
      "execution_count": 28,
      "outputs": [
        {
          "output_type": "stream",
          "name": "stdout",
          "text": [
            "dolo\n",
            "lst\n",
            "shale\n",
            "sst\n"
          ]
        }
      ]
    },
    {
      "cell_type": "code",
      "source": [
        "K_porcentajes= []\n",
        "\n",
        "Permeabilidades = [43, 34, 45, 43, 50, 49, 45.6, 47, 32, 11, 10, 43,11, 45, 44, 21, 45.2, 54.2, 22.3, 19.5, 44, 53, 34, 40]\n",
        "\n",
        "for x in Permeabilidades:\n",
        "  porcentajes= (x/100)\n",
        "\n",
        "  K_porcentajes.append(porcentajes)\n"
      ],
      "metadata": {
        "id": "TWCnUVHQTXc_"
      },
      "execution_count": 29,
      "outputs": []
    },
    {
      "cell_type": "code",
      "source": [
        "K_porcentajes"
      ],
      "metadata": {
        "id": "I8f_iS6fOQk2",
        "colab": {
          "base_uri": "https://localhost:8080/"
        },
        "outputId": "db7c4937-57f0-4969-98a6-9395514b87e9"
      },
      "execution_count": 30,
      "outputs": [
        {
          "output_type": "execute_result",
          "data": {
            "text/plain": [
              "[0.43,\n",
              " 0.34,\n",
              " 0.45,\n",
              " 0.43,\n",
              " 0.5,\n",
              " 0.49,\n",
              " 0.456,\n",
              " 0.47,\n",
              " 0.32,\n",
              " 0.11,\n",
              " 0.1,\n",
              " 0.43,\n",
              " 0.11,\n",
              " 0.45,\n",
              " 0.44,\n",
              " 0.21,\n",
              " 0.452,\n",
              " 0.542,\n",
              " 0.223,\n",
              " 0.195,\n",
              " 0.44,\n",
              " 0.53,\n",
              " 0.34,\n",
              " 0.4]"
            ]
          },
          "metadata": {},
          "execution_count": 30
        }
      ]
    },
    {
      "cell_type": "code",
      "source": [
        "nums = [1,2,3,4,5,6,7,8,9]\n",
        "\n",
        "for n in nums:\n",
        "  if n%2 == 0:\n",
        "      print(\"Even\")\n",
        "  else:\n",
        "      print(\"ODD\")"
      ],
      "metadata": {
        "colab": {
          "base_uri": "https://localhost:8080/"
        },
        "id": "4sqI9POX5ZVa",
        "outputId": "f5470d55-9946-4439-f003-18f9c88be030"
      },
      "execution_count": 31,
      "outputs": [
        {
          "output_type": "stream",
          "name": "stdout",
          "text": [
            "ODD\n",
            "Even\n",
            "ODD\n",
            "Even\n",
            "ODD\n",
            "Even\n",
            "ODD\n",
            "Even\n",
            "ODD\n"
          ]
        }
      ]
    },
    {
      "cell_type": "code",
      "source": [
        "my_numbers = [45, 34, 45, 43, 50, 49, 45.6, 47, 32, 11, 10]\n",
        "my_percentages = []\n",
        "\n",
        "passing_criterion = float(input(\"Hey Principal, enter the Pass criteria: \"))\n",
        "\n",
        "pass_or_fail = []\n",
        "\n",
        "for x in my_numbers:\n",
        "    percentages = (x/50) * 100\n",
        "    my_percentages.append(percentages)\n",
        "\n",
        "    if percentages >= passing_criterion:\n",
        "        pass_or_fail.append(\"PASS\")\n",
        "    else:\n",
        "        pass_or_fail.append(\"FAIL\")\n"
      ],
      "metadata": {
        "colab": {
          "base_uri": "https://localhost:8080/"
        },
        "id": "vwlrd5u4722K",
        "outputId": "a5839e0f-e56e-428e-c11f-df3681b56706"
      },
      "execution_count": 22,
      "outputs": [
        {
          "name": "stdout",
          "output_type": "stream",
          "text": [
            "Hey Principal, enter the Pass criteria: 30\n"
          ]
        }
      ]
    },
    {
      "cell_type": "code",
      "source": [
        "my_percentages"
      ],
      "metadata": {
        "colab": {
          "base_uri": "https://localhost:8080/"
        },
        "id": "W5SorMWS38vL",
        "outputId": "e828b4c4-9b27-465a-c8f4-2f1b8502464f"
      },
      "execution_count": 18,
      "outputs": [
        {
          "output_type": "execute_result",
          "data": {
            "text/plain": [
              "[90.0, 68.0, 90.0, 86.0, 100.0, 98.0, 91.2, 94.0, 64.0, 22.0, 20.0]"
            ]
          },
          "metadata": {},
          "execution_count": 18
        }
      ]
    },
    {
      "cell_type": "code",
      "source": [
        "print(pass_or_fail)"
      ],
      "metadata": {
        "colab": {
          "base_uri": "https://localhost:8080/"
        },
        "id": "TvucUFjz3-KZ",
        "outputId": "c1bb4e16-196c-40b7-a56a-6b34d6bbf829"
      },
      "execution_count": 23,
      "outputs": [
        {
          "output_type": "stream",
          "name": "stdout",
          "text": [
            "['PASS', 'PASS', 'PASS', 'PASS', 'PASS', 'PASS', 'PASS', 'PASS', 'PASS', 'FAIL', 'FAIL']\n"
          ]
        }
      ]
    },
    {
      "cell_type": "markdown",
      "source": [
        "## Глава 4 Функции / Funciones"
      ],
      "metadata": {
        "id": "yrQbVhivJa_1"
      }
    },
    {
      "cell_type": "code",
      "source": [
        "#Создание (определение) функций  / Crear (Definir) función\n",
        "def squarer(x):\n",
        "  sqr = x**2\n",
        "  return sqr"
      ],
      "metadata": {
        "id": "ucmHzIwALfQh"
      },
      "execution_count": 26,
      "outputs": []
    },
    {
      "cell_type": "code",
      "source": [
        "#вызвать / выполнить/ использовать функцию\n",
        "N= int(input(\"Ingresa el número  para elevarlo al cuadrado: \"))\n",
        "\n",
        "print(\"el número elevado al cuadrado es:\", squarer(N))"
      ],
      "metadata": {
        "colab": {
          "base_uri": "https://localhost:8080/"
        },
        "id": "4Jez6bbTL9ux",
        "outputId": "22fe1eb9-bf5f-4bd2-c141-8d892a3aa240"
      },
      "execution_count": 28,
      "outputs": [
        {
          "output_type": "stream",
          "name": "stdout",
          "text": [
            "Ingresa el número  para elevarlo al cuadrado: 60\n",
            "el número elevaadon al cuadrado es: 3600\n"
          ]
        }
      ]
    },
    {
      "cell_type": "code",
      "source": [
        "#y = x**2 + 3*x + 2\n",
        "def equation (x):\n",
        "  y = x**2 + 3*x + 2\n",
        "\n",
        "  return y"
      ],
      "metadata": {
        "id": "BaTGhm6yUCZe"
      },
      "execution_count": 30,
      "outputs": []
    },
    {
      "cell_type": "code",
      "source": [
        "equation(3)"
      ],
      "metadata": {
        "colab": {
          "base_uri": "https://localhost:8080/"
        },
        "id": "2x460rXQVn6s",
        "outputId": "d5c5e709-a38c-4457-e97a-17abffd92e4d"
      },
      "execution_count": 31,
      "outputs": [
        {
          "output_type": "execute_result",
          "data": {
            "text/plain": [
              "20"
            ]
          },
          "metadata": {},
          "execution_count": 31
        }
      ]
    },
    {
      "cell_type": "code",
      "source": [
        "def slope ():\n",
        "    k= int(input(\"Ingresa la permeabilidad: \"))\n",
        "    h= int(input(\"Ingresa el espesor: \"))\n",
        "    mu= int(input(\"Ingresa la viscosidad: \"))\n",
        "    B= float(input(\"Ingresa el coeficiente de formación \"))\n",
        "\n",
        "    lnrerw= 0.5\n",
        "    m= k*h/(141.2*mu*B*lnrerw)\n",
        "\n",
        "    return m"
      ],
      "metadata": {
        "id": "SOVaeYzdVw1L"
      },
      "execution_count": 38,
      "outputs": []
    },
    {
      "cell_type": "code",
      "source": [
        "slope()"
      ],
      "metadata": {
        "colab": {
          "base_uri": "https://localhost:8080/"
        },
        "id": "JVqXjnfcX-mT",
        "outputId": "b0971d88-1758-4b88-ac53-62aefb54078e"
      },
      "execution_count": 41,
      "outputs": [
        {
          "name": "stdout",
          "output_type": "stream",
          "text": [
            "Ingresa la permeabilidad: 300\n",
            "Ingresa el espesor: 50\n",
            "Ingresa la viscosidad: 20\n",
            "Ingresa el coeficiente de formación 1.2\n"
          ]
        },
        {
          "output_type": "execute_result",
          "data": {
            "text/plain": [
              "8.852691218130312"
            ]
          },
          "metadata": {},
          "execution_count": 41
        }
      ]
    },
    {
      "cell_type": "markdown",
      "source": [
        "*Project 2: Función para encontrar la gravedad API*"
      ],
      "metadata": {
        "id": "PrJR7Nj9LIaC"
      }
    },
    {
      "cell_type": "code",
      "source": [
        "def API(SG):\n",
        "  api= 141.5/SG - 131.5\n",
        "\n",
        "  return api"
      ],
      "metadata": {
        "id": "llSzlZ8HZr3U"
      },
      "execution_count": 42,
      "outputs": []
    },
    {
      "cell_type": "code",
      "source": [
        "API (1)"
      ],
      "metadata": {
        "colab": {
          "base_uri": "https://localhost:8080/"
        },
        "id": "Kpi3qvMGchNs",
        "outputId": "aa62f37c-f2be-422e-eb1a-ae7cc52deb94"
      },
      "execution_count": 46,
      "outputs": [
        {
          "output_type": "execute_result",
          "data": {
            "text/plain": [
              "10.0"
            ]
          },
          "metadata": {},
          "execution_count": 46
        }
      ]
    },
    {
      "cell_type": "markdown",
      "source": [
        "*Project 3: Funcion Landa / Funcion anónima*\n"
      ],
      "metadata": {
        "id": "X3zxofiqc-5j"
      }
    },
    {
      "cell_type": "code",
      "source": [
        "API = lambda SG : 141.5/SG - 131.5\n",
        "API(1)"
      ],
      "metadata": {
        "colab": {
          "base_uri": "https://localhost:8080/"
        },
        "id": "ah-JG4fGcjaY",
        "outputId": "4254ba0a-3c17-49e7-e91a-1a720451f419"
      },
      "execution_count": 47,
      "outputs": [
        {
          "output_type": "execute_result",
          "data": {
            "text/plain": [
              "10.0"
            ]
          },
          "metadata": {},
          "execution_count": 47
        }
      ]
    },
    {
      "cell_type": "code",
      "source": [],
      "metadata": {
        "id": "QrOYIFUBecBv"
      },
      "execution_count": null,
      "outputs": []
    }
  ]
}